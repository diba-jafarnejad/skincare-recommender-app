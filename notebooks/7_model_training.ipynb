{
 "cells": [
  {
   "cell_type": "markdown",
   "metadata": {},
   "source": [
    "# Content-Based Recommender"
   ]
  },
  {
   "cell_type": "code",
   "execution_count": 1,
   "metadata": {},
   "outputs": [
    {
     "name": "stdout",
     "output_type": "stream",
     "text": [
      "Defaulting to user installation because normal site-packages is not writeable\n",
      "Requirement already satisfied: pandas in /Users/diba/Library/Python/3.9/lib/python/site-packages (2.2.3)\n",
      "Requirement already satisfied: matplotlib in /Users/diba/Library/Python/3.9/lib/python/site-packages (3.9.4)\n",
      "Requirement already satisfied: seaborn in /Users/diba/Library/Python/3.9/lib/python/site-packages (0.13.2)\n",
      "Requirement already satisfied: scikit-learn in /Users/diba/Library/Python/3.9/lib/python/site-packages (1.6.1)\n",
      "Requirement already satisfied: numpy>=1.22.4 in /Users/diba/Library/Python/3.9/lib/python/site-packages (from pandas) (2.0.2)\n",
      "Requirement already satisfied: python-dateutil>=2.8.2 in /Users/diba/Library/Python/3.9/lib/python/site-packages (from pandas) (2.9.0.post0)\n",
      "Requirement already satisfied: pytz>=2020.1 in /Users/diba/Library/Python/3.9/lib/python/site-packages (from pandas) (2025.1)\n",
      "Requirement already satisfied: tzdata>=2022.7 in /Users/diba/Library/Python/3.9/lib/python/site-packages (from pandas) (2025.1)\n",
      "Requirement already satisfied: importlib-resources>=3.2.0 in /Users/diba/Library/Python/3.9/lib/python/site-packages (from matplotlib) (6.5.2)\n",
      "Requirement already satisfied: contourpy>=1.0.1 in /Users/diba/Library/Python/3.9/lib/python/site-packages (from matplotlib) (1.3.0)\n",
      "Requirement already satisfied: kiwisolver>=1.3.1 in /Users/diba/Library/Python/3.9/lib/python/site-packages (from matplotlib) (1.4.7)\n",
      "Requirement already satisfied: pillow>=8 in /Users/diba/Library/Python/3.9/lib/python/site-packages (from matplotlib) (11.2.1)\n",
      "Requirement already satisfied: packaging>=20.0 in /Users/diba/Library/Python/3.9/lib/python/site-packages (from matplotlib) (24.2)\n",
      "Requirement already satisfied: cycler>=0.10 in /Users/diba/Library/Python/3.9/lib/python/site-packages (from matplotlib) (0.12.1)\n",
      "Requirement already satisfied: pyparsing>=2.3.1 in /Users/diba/Library/Python/3.9/lib/python/site-packages (from matplotlib) (3.2.3)\n",
      "Requirement already satisfied: fonttools>=4.22.0 in /Users/diba/Library/Python/3.9/lib/python/site-packages (from matplotlib) (4.57.0)\n",
      "Requirement already satisfied: scipy>=1.6.0 in /Users/diba/Library/Python/3.9/lib/python/site-packages (from scikit-learn) (1.13.1)\n",
      "Requirement already satisfied: threadpoolctl>=3.1.0 in /Users/diba/Library/Python/3.9/lib/python/site-packages (from scikit-learn) (3.6.0)\n",
      "Requirement already satisfied: joblib>=1.2.0 in /Users/diba/Library/Python/3.9/lib/python/site-packages (from scikit-learn) (1.4.2)\n",
      "Requirement already satisfied: zipp>=3.1.0 in /Users/diba/Library/Python/3.9/lib/python/site-packages (from importlib-resources>=3.2.0->matplotlib) (3.21.0)\n",
      "Requirement already satisfied: six>=1.5 in /Applications/Xcode.app/Contents/Developer/Library/Frameworks/Python3.framework/Versions/3.9/lib/python3.9/site-packages (from python-dateutil>=2.8.2->pandas) (1.15.0)\n",
      "\u001b[33mWARNING: You are using pip version 21.2.4; however, version 25.0.1 is available.\n",
      "You should consider upgrading via the '/Applications/Xcode.app/Contents/Developer/usr/bin/python3 -m pip install --upgrade pip' command.\u001b[0m\n",
      "Note: you may need to restart the kernel to use updated packages.\n"
     ]
    }
   ],
   "source": [
    "pip install pandas matplotlib seaborn scikit-learn"
   ]
  },
  {
   "cell_type": "code",
   "execution_count": 2,
   "metadata": {},
   "outputs": [],
   "source": [
    "import pandas as pd\n",
    "import numpy as np\n",
    "import warnings\n",
    "\n",
    "warnings.filterwarnings('ignore')"
   ]
  },
  {
   "cell_type": "code",
   "execution_count": 3,
   "metadata": {},
   "outputs": [],
   "source": [
    "# load data\n",
    "df = pd.read_csv(\"../data/processed/feature_engineer_df.csv\")"
   ]
  },
  {
   "cell_type": "code",
   "execution_count": null,
   "metadata": {},
   "outputs": [],
   "source": [
    "df"
   ]
  },
  {
   "cell_type": "code",
   "execution_count": 4,
   "metadata": {},
   "outputs": [],
   "source": [
    "df_copy = df"
   ]
  },
  {
   "cell_type": "markdown",
   "metadata": {},
   "source": [
    "# Train a Linear Model to Learn Weights"
   ]
  },
  {
   "cell_type": "code",
   "execution_count": 5,
   "metadata": {},
   "outputs": [],
   "source": [
    "import ast\n",
    "\n",
    "def safely_convert_to_list(val):\n",
    "    try:\n",
    "        if isinstance(val, str):\n",
    "            parsed = ast.literal_eval(val)\n",
    "            return parsed if isinstance(parsed, list) else []\n",
    "        return val if isinstance(val, list) else []\n",
    "    except:\n",
    "        return []"
   ]
  },
  {
   "cell_type": "code",
   "execution_count": 6,
   "metadata": {},
   "outputs": [],
   "source": [
    "df_copy['function_tags'] = df_copy['function_tags'].apply(safely_convert_to_list)"
   ]
  },
  {
   "cell_type": "code",
   "execution_count": 7,
   "metadata": {},
   "outputs": [],
   "source": [
    "skin_type_tag_map = {\n",
    "    \"dry\": [\"hydrating\", \"barrier-repair\", \"healing\"],\n",
    "    \"oily\": [\"oil-control\", \"exfoliating\", \"acne-fighting\"],\n",
    "    \"sensitive\": [\"soothing\", \"anti-redness\", \"anti-inflammatory\"],\n",
    "    \"acne-prone\": [\"acne-fighting\", \"oil-control\", \"anti-inflammatory\"],\n",
    "    \"mature\": [\"anti-aging\", \"firming\", \"antioxidant\"],\n",
    "    \"dull\": [\"brightening\", \"antioxidant\", \"exfoliating\"]\n",
    "}\n",
    "\n",
    "dry_tags = [\"hydrating\", \"barrier-repair\", \"healing\"]\n",
    "oily_tags = [\"oil-control\", \"exfoliating\", \"acne-fighting\"]\n",
    "sensitive_tags = [\"soothing\", \"anti-redness\", \"anti-inflammatory\"]\n",
    "acne_prone_tags = [\"acne-fighting\", \"oil-control\", \"anti-inflammatory\"]\n",
    "mature_tags = [\"anti-aging\", \"firming\", \"antioxidant\"]\n",
    "dull_tags = [\"brightening\", \"antioxidant\", \"exfoliating\"]"
   ]
  },
  {
   "cell_type": "code",
   "execution_count": 8,
   "metadata": {},
   "outputs": [],
   "source": [
    "import re\n",
    "\n",
    "def parse_function_tags(raw_tags):\n",
    "    if not isinstance(raw_tags, list):\n",
    "        return []\n",
    "\n",
    "    cleaned = []\n",
    "    for tag_str in raw_tags:\n",
    "        if isinstance(tag_str, str):\n",
    "            # Remove square brackets, split by comma, strip whitespace\n",
    "            tag_list = re.sub(r'[\\[\\]]', '', tag_str).split(',')\n",
    "            for tag in tag_list:\n",
    "                tag = tag.strip().lower()\n",
    "                if tag and tag != 'none':\n",
    "                    cleaned.append(tag)\n",
    "    return list(set(cleaned))  # remove duplicates"
   ]
  },
  {
   "cell_type": "code",
   "execution_count": 9,
   "metadata": {},
   "outputs": [],
   "source": [
    "df_copy['function_tags'] = df_copy['function_tags'].apply(parse_function_tags)"
   ]
  },
  {
   "cell_type": "code",
   "execution_count": 10,
   "metadata": {},
   "outputs": [
    {
     "data": {
      "text/plain": [
       "0       [hydrating, barrier-repair, antioxidant, anti-...\n",
       "1       [anti-inflammatory, anti-redness, hydrating, b...\n",
       "2                                                      []\n",
       "3       [anti-inflammatory, brightening, soothing, ant...\n",
       "4                                     [soothing, healing]\n",
       "                              ...                        \n",
       "2281    [hydrating, healing, soothing, barrier-repair,...\n",
       "2282                                                   []\n",
       "2283    [hydrating, brightening, soothing, barrier-rep...\n",
       "2284    [anti-inflammatory, hydrating, brightening, so...\n",
       "2285    [anti-inflammatory, healing, brightening, soot...\n",
       "Name: function_tags, Length: 2286, dtype: object"
      ]
     },
     "execution_count": 10,
     "metadata": {},
     "output_type": "execute_result"
    }
   ],
   "source": [
    "df_copy['function_tags']"
   ]
  },
  {
   "cell_type": "code",
   "execution_count": 11,
   "metadata": {},
   "outputs": [],
   "source": [
    "def get_matching_tags(tag_list, skin_type_tags):\n",
    "    return [tag for tag in tag_list if tag in skin_type_tags]"
   ]
  },
  {
   "cell_type": "code",
   "execution_count": 12,
   "metadata": {},
   "outputs": [],
   "source": [
    "# matched_tags -> dry\n",
    "df_copy['dry_tags'] = df_copy['function_tags'].apply(lambda x: get_matching_tags(x, dry_tags))"
   ]
  },
  {
   "cell_type": "code",
   "execution_count": null,
   "metadata": {},
   "outputs": [],
   "source": [
    "df_copy"
   ]
  },
  {
   "cell_type": "code",
   "execution_count": 13,
   "metadata": {},
   "outputs": [],
   "source": [
    "# matched_tags -> oily\n",
    "df_copy['oily_tags'] = df_copy['function_tags'].apply(lambda x: get_matching_tags(x, oily_tags))"
   ]
  },
  {
   "cell_type": "code",
   "execution_count": null,
   "metadata": {},
   "outputs": [],
   "source": [
    "df_copy"
   ]
  },
  {
   "cell_type": "code",
   "execution_count": 14,
   "metadata": {},
   "outputs": [],
   "source": [
    "# matched_tags -> sensitive sensitive_tags\n",
    "df_copy['sensitive_tags'] = df_copy['function_tags'].apply(lambda x: get_matching_tags(x, sensitive_tags))"
   ]
  },
  {
   "cell_type": "code",
   "execution_count": 15,
   "metadata": {},
   "outputs": [],
   "source": [
    "# matched_tags -> acne-prone acne_prone_tags\n",
    "df_copy['acne_prone_tags'] = df_copy['function_tags'].apply(lambda x: get_matching_tags(x, acne_prone_tags))"
   ]
  },
  {
   "cell_type": "code",
   "execution_count": 16,
   "metadata": {},
   "outputs": [],
   "source": [
    "# matched_tags -> mature mature_tags\n",
    "df_copy['mature_tags'] = df_copy['function_tags'].apply(lambda x: get_matching_tags(x, mature_tags))"
   ]
  },
  {
   "cell_type": "code",
   "execution_count": 17,
   "metadata": {},
   "outputs": [],
   "source": [
    "# matched_tags -> dull dull_tags\n",
    "df_copy['dull_tags'] = df_copy['function_tags'].apply(lambda x: get_matching_tags(x, dull_tags))"
   ]
  },
  {
   "cell_type": "code",
   "execution_count": null,
   "metadata": {},
   "outputs": [],
   "source": [
    "df"
   ]
  },
  {
   "cell_type": "code",
   "execution_count": 18,
   "metadata": {},
   "outputs": [],
   "source": [
    "# Convert Tag Lists to Binary Target Columns\n",
    "\n",
    "df_copy['target_dry'] = df_copy['dry_tags'].apply(lambda x: len(x) > 0)\n",
    "df_copy['target_oily'] = df_copy['oily_tags'].apply(lambda x: len(x) > 0)\n",
    "df_copy['target_sensitive'] = df_copy['sensitive_tags'].apply(lambda x: len(x) > 0)\n",
    "df_copy['target_acne_prone'] = df_copy['acne_prone_tags'].apply(lambda x: len(x) > 0)\n",
    "df_copy['target_mature'] = df_copy['mature_tags'].apply(lambda x: len(x) > 0)\n",
    "df_copy['target_dull'] = df_copy['dull_tags'].apply(lambda x: len(x) > 0)"
   ]
  },
  {
   "cell_type": "code",
   "execution_count": null,
   "metadata": {},
   "outputs": [],
   "source": [
    "df_copy"
   ]
  },
  {
   "cell_type": "code",
   "execution_count": 19,
   "metadata": {},
   "outputs": [
    {
     "name": "stdout",
     "output_type": "stream",
     "text": [
      "\n",
      "🧪 Training model for dry skin\n",
      "🔢 y_train distribution for dry:\n",
      "target_dry\n",
      "True     1037\n",
      "False     791\n",
      "Name: count, dtype: int64\n",
      "✅ Accuracy for dry: 0.82\n",
      "              precision    recall  f1-score   support\n",
      "\n",
      "       False       0.85      0.72      0.78       199\n",
      "        True       0.81      0.90      0.85       259\n",
      "\n",
      "    accuracy                           0.82       458\n",
      "   macro avg       0.83      0.81      0.81       458\n",
      "weighted avg       0.82      0.82      0.82       458\n",
      "\n",
      "\n",
      "🧪 Training model for oily skin\n",
      "🔢 y_train distribution for oily:\n",
      "target_oily\n",
      "True     938\n",
      "False    890\n",
      "Name: count, dtype: int64\n",
      "✅ Accuracy for oily: 0.79\n",
      "              precision    recall  f1-score   support\n",
      "\n",
      "       False       0.79      0.82      0.80       245\n",
      "        True       0.78      0.75      0.77       213\n",
      "\n",
      "    accuracy                           0.79       458\n",
      "   macro avg       0.79      0.78      0.78       458\n",
      "weighted avg       0.79      0.79      0.79       458\n",
      "\n",
      "\n",
      "🧪 Training model for sensitive skin\n",
      "🔢 y_train distribution for sensitive:\n",
      "target_sensitive\n",
      "False    946\n",
      "True     882\n",
      "Name: count, dtype: int64\n",
      "✅ Accuracy for sensitive: 0.77\n",
      "              precision    recall  f1-score   support\n",
      "\n",
      "       False       0.78      0.83      0.80       257\n",
      "        True       0.76      0.70      0.73       201\n",
      "\n",
      "    accuracy                           0.77       458\n",
      "   macro avg       0.77      0.77      0.77       458\n",
      "weighted avg       0.77      0.77      0.77       458\n",
      "\n",
      "\n",
      "🧪 Training model for acne-prone skin\n",
      "🔢 y_train distribution for acne-prone:\n",
      "target_acne_prone\n",
      "True     1036\n",
      "False     792\n",
      "Name: count, dtype: int64\n",
      "✅ Accuracy for acne-prone: 0.77\n",
      "              precision    recall  f1-score   support\n",
      "\n",
      "       False       0.88      0.64      0.74       233\n",
      "        True       0.71      0.91      0.80       225\n",
      "\n",
      "    accuracy                           0.77       458\n",
      "   macro avg       0.79      0.77      0.77       458\n",
      "weighted avg       0.79      0.77      0.77       458\n",
      "\n",
      "\n",
      "🧪 Training model for mature skin\n",
      "🔢 y_train distribution for mature:\n",
      "target_mature\n",
      "True     983\n",
      "False    845\n",
      "Name: count, dtype: int64\n",
      "✅ Accuracy for mature: 0.82\n",
      "              precision    recall  f1-score   support\n",
      "\n",
      "       False       0.78      0.85      0.81       212\n",
      "        True       0.86      0.79      0.82       246\n",
      "\n",
      "    accuracy                           0.82       458\n",
      "   macro avg       0.82      0.82      0.82       458\n",
      "weighted avg       0.82      0.82      0.82       458\n",
      "\n",
      "\n",
      "🧪 Training model for dull skin\n",
      "🔢 y_train distribution for dull:\n",
      "target_dull\n",
      "True     1004\n",
      "False     824\n",
      "Name: count, dtype: int64\n",
      "✅ Accuracy for dull: 0.82\n",
      "              precision    recall  f1-score   support\n",
      "\n",
      "       False       0.87      0.72      0.78       208\n",
      "        True       0.79      0.91      0.85       250\n",
      "\n",
      "    accuracy                           0.82       458\n",
      "   macro avg       0.83      0.81      0.82       458\n",
      "weighted avg       0.83      0.82      0.82       458\n",
      "\n"
     ]
    }
   ],
   "source": [
    "from sklearn.linear_model import LogisticRegression\n",
    "from sklearn.model_selection import train_test_split\n",
    "from sklearn.metrics import accuracy_score, classification_report\n",
    "\n",
    "features = [\n",
    "    'rating_scaled',\n",
    "    'is_recommended_scaled',\n",
    "    'total_pos_feedback_count_scaled',\n",
    "    'num_function_tags_scaled'\n",
    "]\n",
    "\n",
    "# Mapping your target columns\n",
    "skin_target_map = {\n",
    "    'dry': 'target_dry',\n",
    "    'oily': 'target_oily',\n",
    "    'sensitive': 'target_sensitive',\n",
    "    'acne-prone': 'target_acne_prone',\n",
    "    'mature': 'target_mature',\n",
    "    'dull': 'target_dull'\n",
    "}\n",
    "\n",
    "# Store models and weights\n",
    "skin_models = {}\n",
    "skin_weights = {}\n",
    "\n",
    "for skin_type, target_col in skin_target_map.items():\n",
    "    print(f\"\\n🧪 Training model for {skin_type} skin\")\n",
    "\n",
    "    y = df_copy[target_col]\n",
    "    X = df_copy[features]\n",
    "\n",
    "    X_train, X_test, y_train, y_test = train_test_split(\n",
    "        X, y, test_size=0.2, random_state=42\n",
    "    )\n",
    "\n",
    "    print(f\"🔢 y_train distribution for {skin_type}:\")\n",
    "    print(y_train.value_counts())\n",
    "\n",
    "    model = LogisticRegression(C=0.1)\n",
    "    model.fit(X_train, y_train)\n",
    "\n",
    "    # Save model and feature weights\n",
    "    skin_models[skin_type] = model\n",
    "    skin_weights[skin_type] = dict(zip(X.columns, model.coef_[0]))\n",
    "\n",
    "    # Evaluation\n",
    "    y_pred = model.predict(X_test)\n",
    "    acc = accuracy_score(y_test, y_pred)\n",
    "    print(f\"✅ Accuracy for {skin_type}: {acc:.2f}\")\n",
    "    print(classification_report(y_test, y_pred))"
   ]
  },
  {
   "cell_type": "markdown",
   "metadata": {},
   "source": [
    "# Insight\n",
    "\n",
    "## 🧠 Model Evaluation Summary (Per Skin Type)\n",
    "\n",
    "Below is a summary of classification performance for each skin type using logistic regression. All models were trained on four engineered features and evaluated on a holdout test set (20%).\n",
    "\n",
    "| Skin Type     | Accuracy | Precision (True) | Recall (True) | F1-score (True) | Notes |\n",
    "|---------------|----------|------------------|---------------|-----------------|-------|\n",
    "| **Dry**       | 0.82     | 0.81             | 0.90          | 0.85            | Excellent performance with high recall — great at identifying dry-suitable products. |\n",
    "| **Oily**      | 0.79     | 0.78             | 0.75          | 0.77            | Solid performance, balanced precision and recall. |\n",
    "| **Sensitive** | 0.77     | 0.76             | 0.70          | 0.73            | Good, though recall could be improved for better sensitivity coverage. |\n",
    "| **Acne-Prone**| 0.77     | 0.71             | 0.91          | 0.80            | Prioritizes finding acne-friendly products well (high recall). |\n",
    "| **Mature**    | 0.82     | 0.86             | 0.79          | 0.82            | Excellent performance with balanced metrics. |\n",
    "| **Dull**      | 0.82     | 0.79             | 0.91          | 0.85            | Strong ability to catch dullness-targeted products. |\n",
    "\n",
    "### ✅ General Insights:\n",
    "- All models demonstrate strong generalization (accuracy between **77% and 82%**).\n",
    "- **High recall** for key types (dry, acne-prone, dull) ensures relevant products are rarely missed.\n",
    "- No significant class imbalance was found during training (`y_train.value_counts()`).\n",
    "- The models are ready to be used for personalized product recommendation.\n",
    "\n"
   ]
  },
  {
   "cell_type": "markdown",
   "metadata": {},
   "source": [
    "# Use the Learned Weights for Scoring"
   ]
  },
  {
   "cell_type": "code",
   "execution_count": 20,
   "metadata": {},
   "outputs": [],
   "source": [
    "# define scoring function \n",
    "def compute_relevance_score(row, weights):\n",
    "    return sum(row[feature] * weight for feature, weight in weights.items())"
   ]
  },
  {
   "cell_type": "code",
   "execution_count": 21,
   "metadata": {},
   "outputs": [],
   "source": [
    "for skin_type, weights in skin_weights.items():\n",
    "    df_copy[f'relevance_score_{skin_type}'] = df_copy.apply(\n",
    "        lambda row: compute_relevance_score(row, weights), axis=1\n",
    "    )\n"
   ]
  },
  {
   "cell_type": "code",
   "execution_count": null,
   "metadata": {},
   "outputs": [],
   "source": [
    "df_copy"
   ]
  },
  {
   "cell_type": "code",
   "execution_count": 22,
   "metadata": {},
   "outputs": [],
   "source": [
    "# Recommendation Function\n",
    "\n",
    "def recommend_products(df, skin_type, top_n=10, category=None):\n",
    "    \"\"\"\n",
    "    Recommends top N products for a given skin type based on relevance scores.\n",
    "\n",
    "    Args:\n",
    "        df (pd.DataFrame): The DataFrame containing products and relevance scores.\n",
    "        skin_type (str): Skin type to recommend for (e.g., 'dry', 'oily', etc.)\n",
    "        top_n (int): Number of products to return.\n",
    "        category (str, optional): If provided, filters results by primary_category.\n",
    "\n",
    "    Returns:\n",
    "        pd.DataFrame: Top N recommended products.\n",
    "    \"\"\"\n",
    "    score_col = f'relevance_score_{skin_type}'\n",
    "    \n",
    "    if score_col not in df.columns:\n",
    "        raise ValueError(f\"No relevance score found for skin type '{skin_type}'\")\n",
    "\n",
    "    df_filtered = df.copy()\n",
    "\n",
    "    if category:\n",
    "        df_filtered = df_filtered[\n",
    "            df_filtered['primary_category'].str.lower() == category.lower()\n",
    "        ]\n",
    "\n",
    "    return df_filtered.sort_values(score_col, ascending=False).head(top_n)\n"
   ]
  },
  {
   "cell_type": "code",
   "execution_count": 23,
   "metadata": {},
   "outputs": [],
   "source": [
    "# Normalize scores for UI \n",
    "\n",
    "from sklearn.preprocessing import MinMaxScaler\n",
    "\n",
    "for skin_type in skin_weights.keys():\n",
    "    score_col = f'relevance_score_{skin_type}'\n",
    "    norm_col = f'{score_col}_scaled'\n",
    "    df_copy[norm_col] = MinMaxScaler().fit_transform(df_copy[[score_col]])"
   ]
  },
  {
   "cell_type": "code",
   "execution_count": null,
   "metadata": {},
   "outputs": [],
   "source": [
    "df_copy"
   ]
  },
  {
   "cell_type": "markdown",
   "metadata": {},
   "source": [
    "# Save Train Models"
   ]
  },
  {
   "cell_type": "code",
   "execution_count": 24,
   "metadata": {},
   "outputs": [
    {
     "name": "stdout",
     "output_type": "stream",
     "text": [
      "Defaulting to user installation because normal site-packages is not writeable\n",
      "Requirement already satisfied: joblib in /Users/diba/Library/Python/3.9/lib/python/site-packages (1.4.2)\n",
      "\u001b[33mWARNING: You are using pip version 21.2.4; however, version 25.0.1 is available.\n",
      "You should consider upgrading via the '/Applications/Xcode.app/Contents/Developer/usr/bin/python3 -m pip install --upgrade pip' command.\u001b[0m\n",
      "Note: you may need to restart the kernel to use updated packages.\n"
     ]
    }
   ],
   "source": [
    "pip install joblib"
   ]
  },
  {
   "cell_type": "code",
   "execution_count": 25,
   "metadata": {},
   "outputs": [
    {
     "name": "stdout",
     "output_type": "stream",
     "text": [
      "✅ Saved dry model to models/logreg_dry.joblib\n",
      "✅ Saved oily model to models/logreg_oily.joblib\n",
      "✅ Saved sensitive model to models/logreg_sensitive.joblib\n",
      "✅ Saved acne-prone model to models/logreg_acne-prone.joblib\n",
      "✅ Saved mature model to models/logreg_mature.joblib\n",
      "✅ Saved dull model to models/logreg_dull.joblib\n"
     ]
    }
   ],
   "source": [
    "# save each model\n",
    "\n",
    "import joblib\n",
    "import os\n",
    "\n",
    "# Create folder if it doesn't exist\n",
    "os.makedirs('models', exist_ok=True)\n",
    "\n",
    "for skin_type, model in skin_models.items():\n",
    "    filename = f'models/logreg_{skin_type}.joblib'\n",
    "    joblib.dump(model, filename)\n",
    "    print(f\"✅ Saved {skin_type} model to {filename}\")\n"
   ]
  },
  {
   "cell_type": "code",
   "execution_count": 26,
   "metadata": {},
   "outputs": [
    {
     "data": {
      "text/plain": [
       "Index(['product_id', 'product_name', 'brand_name', 'ingredients', 'rating',\n",
       "       'primary_category', 'skin_type', 'review_text_cleaned',\n",
       "       'is_recommended', 'reviews', 'price_usd', 'total_pos_feedback_count',\n",
       "       'what_does_it_do', 'who_is_it_good_for', 'who_should_avoid',\n",
       "       'function_tags', 'num_ingredients', 'num_function_tags',\n",
       "       'has_irritants', 'skin_match_score', 'parsed_function_tags',\n",
       "       'matched_tags', 'rating_scaled', 'is_recommended_scaled',\n",
       "       'reviews_scaled', 'price_usd_scaled', 'total_pos_feedback_count_scaled',\n",
       "       'skin_match_score_scaled', 'num_ingredients_scaled',\n",
       "       'num_function_tags_scaled', 'relevance_score', 'dry_tags', 'oily_tags',\n",
       "       'sensitive_tags', 'acne_prone_tags', 'mature_tags', 'dull_tags',\n",
       "       'target_dry', 'target_oily', 'target_sensitive', 'target_acne_prone',\n",
       "       'target_mature', 'target_dull', 'relevance_score_dry',\n",
       "       'relevance_score_oily', 'relevance_score_sensitive',\n",
       "       'relevance_score_acne-prone', 'relevance_score_mature',\n",
       "       'relevance_score_dull', 'relevance_score_dry_scaled',\n",
       "       'relevance_score_oily_scaled', 'relevance_score_sensitive_scaled',\n",
       "       'relevance_score_acne-prone_scaled', 'relevance_score_mature_scaled',\n",
       "       'relevance_score_dull_scaled'],\n",
       "      dtype='object')"
      ]
     },
     "execution_count": 26,
     "metadata": {},
     "output_type": "execute_result"
    }
   ],
   "source": [
    "df_copy.columns"
   ]
  },
  {
   "cell_type": "code",
   "execution_count": 33,
   "metadata": {},
   "outputs": [],
   "source": [
    "cols_to_keep = [\n",
    "    'product_name',\n",
    "    'brand_name',\n",
    "    'rating',\n",
    "    'price_usd',\n",
    "    'function_tags',\n",
    "    # Keep only the relevance scores\n",
    "    'relevance_score_dry',\n",
    "    'relevance_score_oily',\n",
    "    'relevance_score_sensitive',\n",
    "    'relevance_score_acne-prone',\n",
    "    'relevance_score_mature',\n",
    "    'relevance_score_dull',\n",
    "]"
   ]
  },
  {
   "cell_type": "code",
   "execution_count": 34,
   "metadata": {},
   "outputs": [],
   "source": [
    "df_final= df_copy[cols_to_keep]"
   ]
  },
  {
   "cell_type": "code",
   "execution_count": 35,
   "metadata": {},
   "outputs": [
    {
     "data": {
      "text/html": [
       "<div>\n",
       "<style scoped>\n",
       "    .dataframe tbody tr th:only-of-type {\n",
       "        vertical-align: middle;\n",
       "    }\n",
       "\n",
       "    .dataframe tbody tr th {\n",
       "        vertical-align: top;\n",
       "    }\n",
       "\n",
       "    .dataframe thead th {\n",
       "        text-align: right;\n",
       "    }\n",
       "</style>\n",
       "<table border=\"1\" class=\"dataframe\">\n",
       "  <thead>\n",
       "    <tr style=\"text-align: right;\">\n",
       "      <th></th>\n",
       "      <th>product_name</th>\n",
       "      <th>brand_name</th>\n",
       "      <th>rating</th>\n",
       "      <th>price_usd</th>\n",
       "      <th>function_tags</th>\n",
       "      <th>relevance_score_dry</th>\n",
       "      <th>relevance_score_oily</th>\n",
       "      <th>relevance_score_sensitive</th>\n",
       "      <th>relevance_score_acne-prone</th>\n",
       "      <th>relevance_score_mature</th>\n",
       "      <th>relevance_score_dull</th>\n",
       "    </tr>\n",
       "  </thead>\n",
       "  <tbody>\n",
       "    <tr>\n",
       "      <th>0</th>\n",
       "      <td>Renewing Eye Cream</td>\n",
       "      <td>Murad</td>\n",
       "      <td>4.031620</td>\n",
       "      <td>89.0</td>\n",
       "      <td>[hydrating, barrier-repair, antioxidant, anti-...</td>\n",
       "      <td>1.138888</td>\n",
       "      <td>1.133340</td>\n",
       "      <td>1.302729</td>\n",
       "      <td>1.136431</td>\n",
       "      <td>1.308429</td>\n",
       "      <td>1.520420</td>\n",
       "    </tr>\n",
       "    <tr>\n",
       "      <th>1</th>\n",
       "      <td>Goodbye Acne  Max Complexion Correction Pads</td>\n",
       "      <td>Peter Thomas Roth</td>\n",
       "      <td>4.419882</td>\n",
       "      <td>48.0</td>\n",
       "      <td>[anti-inflammatory, anti-redness, hydrating, b...</td>\n",
       "      <td>0.862160</td>\n",
       "      <td>0.880449</td>\n",
       "      <td>1.080717</td>\n",
       "      <td>0.873969</td>\n",
       "      <td>1.035583</td>\n",
       "      <td>1.266697</td>\n",
       "    </tr>\n",
       "    <tr>\n",
       "      <th>2</th>\n",
       "      <td>Grape Water Moisturizing Face Mist</td>\n",
       "      <td>Caudalie</td>\n",
       "      <td>4.443390</td>\n",
       "      <td>12.0</td>\n",
       "      <td>[]</td>\n",
       "      <td>-0.132345</td>\n",
       "      <td>0.080326</td>\n",
       "      <td>0.173657</td>\n",
       "      <td>-0.041518</td>\n",
       "      <td>-0.160145</td>\n",
       "      <td>0.130056</td>\n",
       "    </tr>\n",
       "    <tr>\n",
       "      <th>3</th>\n",
       "      <td>Clarifying Lotion 1</td>\n",
       "      <td>CLINIQUE</td>\n",
       "      <td>4.515000</td>\n",
       "      <td>20.0</td>\n",
       "      <td>[anti-inflammatory, brightening, soothing, ant...</td>\n",
       "      <td>0.583642</td>\n",
       "      <td>0.597385</td>\n",
       "      <td>0.839134</td>\n",
       "      <td>0.596371</td>\n",
       "      <td>0.772908</td>\n",
       "      <td>0.994846</td>\n",
       "    </tr>\n",
       "    <tr>\n",
       "      <th>4</th>\n",
       "      <td>7 Day Face Scrub Cream Rinse-Off Formula</td>\n",
       "      <td>CLINIQUE</td>\n",
       "      <td>4.532099</td>\n",
       "      <td>26.0</td>\n",
       "      <td>[soothing, healing]</td>\n",
       "      <td>0.054958</td>\n",
       "      <td>0.087585</td>\n",
       "      <td>0.366474</td>\n",
       "      <td>0.082570</td>\n",
       "      <td>0.245430</td>\n",
       "      <td>0.459274</td>\n",
       "    </tr>\n",
       "    <tr>\n",
       "      <th>...</th>\n",
       "      <td>...</td>\n",
       "      <td>...</td>\n",
       "      <td>...</td>\n",
       "      <td>...</td>\n",
       "      <td>...</td>\n",
       "      <td>...</td>\n",
       "      <td>...</td>\n",
       "      <td>...</td>\n",
       "      <td>...</td>\n",
       "      <td>...</td>\n",
       "      <td>...</td>\n",
       "    </tr>\n",
       "    <tr>\n",
       "      <th>2281</th>\n",
       "      <td>Vinoperfect Radiance Dark Spot Serum Vitamin C...</td>\n",
       "      <td>Caudalie</td>\n",
       "      <td>4.244681</td>\n",
       "      <td>82.0</td>\n",
       "      <td>[hydrating, healing, soothing, barrier-repair,...</td>\n",
       "      <td>0.664468</td>\n",
       "      <td>0.816099</td>\n",
       "      <td>0.877833</td>\n",
       "      <td>0.726673</td>\n",
       "      <td>0.682358</td>\n",
       "      <td>0.965432</td>\n",
       "    </tr>\n",
       "    <tr>\n",
       "      <th>2282</th>\n",
       "      <td>One-Step Gentle Exfoliating Cleanser with Oran...</td>\n",
       "      <td>Clarins</td>\n",
       "      <td>4.613767</td>\n",
       "      <td>39.0</td>\n",
       "      <td>[]</td>\n",
       "      <td>0.060923</td>\n",
       "      <td>0.116436</td>\n",
       "      <td>0.375142</td>\n",
       "      <td>0.096677</td>\n",
       "      <td>0.227772</td>\n",
       "      <td>0.456514</td>\n",
       "    </tr>\n",
       "    <tr>\n",
       "      <th>2283</th>\n",
       "      <td>Essential-C Toner</td>\n",
       "      <td>Murad</td>\n",
       "      <td>4.308823</td>\n",
       "      <td>42.0</td>\n",
       "      <td>[hydrating, brightening, soothing, barrier-rep...</td>\n",
       "      <td>1.893813</td>\n",
       "      <td>1.809169</td>\n",
       "      <td>2.004532</td>\n",
       "      <td>1.852842</td>\n",
       "      <td>2.138785</td>\n",
       "      <td>2.349712</td>\n",
       "    </tr>\n",
       "    <tr>\n",
       "      <th>2284</th>\n",
       "      <td>Essential-C Day Moisture Broad Spectrum SPF 30...</td>\n",
       "      <td>Murad</td>\n",
       "      <td>4.248492</td>\n",
       "      <td>68.0</td>\n",
       "      <td>[anti-inflammatory, hydrating, brightening, so...</td>\n",
       "      <td>1.947492</td>\n",
       "      <td>1.978088</td>\n",
       "      <td>2.035883</td>\n",
       "      <td>1.945347</td>\n",
       "      <td>2.048271</td>\n",
       "      <td>2.314612</td>\n",
       "    </tr>\n",
       "    <tr>\n",
       "      <th>2285</th>\n",
       "      <td>Essential-C Cleanser</td>\n",
       "      <td>Murad</td>\n",
       "      <td>4.496164</td>\n",
       "      <td>44.0</td>\n",
       "      <td>[anti-inflammatory, healing, brightening, soot...</td>\n",
       "      <td>1.132531</td>\n",
       "      <td>1.171089</td>\n",
       "      <td>1.325098</td>\n",
       "      <td>1.145732</td>\n",
       "      <td>1.268644</td>\n",
       "      <td>1.520986</td>\n",
       "    </tr>\n",
       "  </tbody>\n",
       "</table>\n",
       "<p>2286 rows × 11 columns</p>\n",
       "</div>"
      ],
      "text/plain": [
       "                                           product_name         brand_name  \\\n",
       "0                                    Renewing Eye Cream              Murad   \n",
       "1          Goodbye Acne  Max Complexion Correction Pads  Peter Thomas Roth   \n",
       "2                    Grape Water Moisturizing Face Mist           Caudalie   \n",
       "3                                   Clarifying Lotion 1           CLINIQUE   \n",
       "4              7 Day Face Scrub Cream Rinse-Off Formula           CLINIQUE   \n",
       "...                                                 ...                ...   \n",
       "2281  Vinoperfect Radiance Dark Spot Serum Vitamin C...           Caudalie   \n",
       "2282  One-Step Gentle Exfoliating Cleanser with Oran...            Clarins   \n",
       "2283                                  Essential-C Toner              Murad   \n",
       "2284  Essential-C Day Moisture Broad Spectrum SPF 30...              Murad   \n",
       "2285                               Essential-C Cleanser              Murad   \n",
       "\n",
       "        rating  price_usd                                      function_tags  \\\n",
       "0     4.031620       89.0  [hydrating, barrier-repair, antioxidant, anti-...   \n",
       "1     4.419882       48.0  [anti-inflammatory, anti-redness, hydrating, b...   \n",
       "2     4.443390       12.0                                                 []   \n",
       "3     4.515000       20.0  [anti-inflammatory, brightening, soothing, ant...   \n",
       "4     4.532099       26.0                                [soothing, healing]   \n",
       "...        ...        ...                                                ...   \n",
       "2281  4.244681       82.0  [hydrating, healing, soothing, barrier-repair,...   \n",
       "2282  4.613767       39.0                                                 []   \n",
       "2283  4.308823       42.0  [hydrating, brightening, soothing, barrier-rep...   \n",
       "2284  4.248492       68.0  [anti-inflammatory, hydrating, brightening, so...   \n",
       "2285  4.496164       44.0  [anti-inflammatory, healing, brightening, soot...   \n",
       "\n",
       "      relevance_score_dry  relevance_score_oily  relevance_score_sensitive  \\\n",
       "0                1.138888              1.133340                   1.302729   \n",
       "1                0.862160              0.880449                   1.080717   \n",
       "2               -0.132345              0.080326                   0.173657   \n",
       "3                0.583642              0.597385                   0.839134   \n",
       "4                0.054958              0.087585                   0.366474   \n",
       "...                   ...                   ...                        ...   \n",
       "2281             0.664468              0.816099                   0.877833   \n",
       "2282             0.060923              0.116436                   0.375142   \n",
       "2283             1.893813              1.809169                   2.004532   \n",
       "2284             1.947492              1.978088                   2.035883   \n",
       "2285             1.132531              1.171089                   1.325098   \n",
       "\n",
       "      relevance_score_acne-prone  relevance_score_mature  relevance_score_dull  \n",
       "0                       1.136431                1.308429              1.520420  \n",
       "1                       0.873969                1.035583              1.266697  \n",
       "2                      -0.041518               -0.160145              0.130056  \n",
       "3                       0.596371                0.772908              0.994846  \n",
       "4                       0.082570                0.245430              0.459274  \n",
       "...                          ...                     ...                   ...  \n",
       "2281                    0.726673                0.682358              0.965432  \n",
       "2282                    0.096677                0.227772              0.456514  \n",
       "2283                    1.852842                2.138785              2.349712  \n",
       "2284                    1.945347                2.048271              2.314612  \n",
       "2285                    1.145732                1.268644              1.520986  \n",
       "\n",
       "[2286 rows x 11 columns]"
      ]
     },
     "execution_count": 35,
     "metadata": {},
     "output_type": "execute_result"
    }
   ],
   "source": [
    "df_final"
   ]
  },
  {
   "cell_type": "code",
   "execution_count": 36,
   "metadata": {},
   "outputs": [],
   "source": [
    "# save engineered data\n",
    "df_final.to_csv(\"../data/processed/final_df.csv\", index=False)"
   ]
  }
 ],
 "metadata": {
  "kernelspec": {
   "display_name": "Python 3",
   "language": "python",
   "name": "python3"
  },
  "language_info": {
   "codemirror_mode": {
    "name": "ipython",
    "version": 3
   },
   "file_extension": ".py",
   "mimetype": "text/x-python",
   "name": "python",
   "nbconvert_exporter": "python",
   "pygments_lexer": "ipython3",
   "version": "3.9.6"
  }
 },
 "nbformat": 4,
 "nbformat_minor": 2
}
